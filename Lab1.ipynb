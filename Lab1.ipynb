{
  "nbformat": 4,
  "nbformat_minor": 0,
  "metadata": {
    "colab": {
      "provenance": []
    },
    "kernelspec": {
      "name": "python3",
      "display_name": "Python 3"
    },
    "language_info": {
      "name": "python"
    }
  },
  "cells": [
    {
      "cell_type": "code",
      "source": [
        "import numpy as np\n",
        "arr = np.array([1, 2, 3,6, 4, 5])\n",
        "reversed_arr = arr[::-1]\n",
        "print(reversed_arr)\n",
        "\n"
      ],
      "metadata": {
        "colab": {
          "base_uri": "https://localhost:8080/"
        },
        "id": "552K9zhpukoQ",
        "outputId": "75223c5f-70e0-4be0-9c1b-b92e819c2ec9"
      },
      "execution_count": null,
      "outputs": [
        {
          "output_type": "stream",
          "name": "stdout",
          "text": [
            "[5 4 6 3 2 1]\n"
          ]
        }
      ]
    },
    {
      "cell_type": "code",
      "source": [
        "import numpy as np\n",
        "\n",
        "array1 = np.array([[1, 2, 3], [2, 4, 5], [1, 2, 3]])\n",
        "flattened_array1 = array1.flatten()\n",
        "\n",
        "print(flattened_array1)\n"
      ],
      "metadata": {
        "colab": {
          "base_uri": "https://localhost:8080/"
        },
        "id": "l7ss9uxZvZv2",
        "outputId": "1bf4a4f3-51ce-4209-c51b-7d43745a4eec"
      },
      "execution_count": null,
      "outputs": [
        {
          "output_type": "stream",
          "name": "stdout",
          "text": [
            "[1 2 3 2 4 5 1 2 3]\n"
          ]
        }
      ]
    },
    {
      "cell_type": "code",
      "source": [
        "import numpy as np\n",
        "\n",
        "arr1 = np.array([[1, 2], [3, 4]])\n",
        "arr2 = np.array([[1, 2], [3, 4]])\n",
        "\n",
        "are_equal = np.array_equal(arr1, arr2)\n",
        "print( are_equal)\n"
      ],
      "metadata": {
        "colab": {
          "base_uri": "https://localhost:8080/"
        },
        "id": "W1ymdzFAv-oS",
        "outputId": "e1297563-cdfd-4b58-82e5-3acbcd93c022"
      },
      "execution_count": null,
      "outputs": [
        {
          "output_type": "stream",
          "name": "stdout",
          "text": [
            "True\n"
          ]
        }
      ]
    },
    {
      "cell_type": "code",
      "source": [
        "import numpy as np\n",
        "\n",
        "x = np.array([1, 2, 3, 4, 5, 1, 2, 1, 1, 1])\n",
        "\n",
        "# Step 1: Count occurrences of each value\n",
        "counts = np.bincount(x)\n",
        "\n",
        "# Step 2: Find the most frequent value\n",
        "most_frequent_value = np.argmax(counts)\n",
        "\n",
        "# Step 3: Find all indices of this value\n",
        "indices = np.where(x == most_frequent_value)[0]\n",
        "\n",
        "print(f\"The most frequent value is {most_frequent_value}\")\n",
        "print(f\"Indices of the most frequent value: {indices}\")\n"
      ],
      "metadata": {
        "colab": {
          "base_uri": "https://localhost:8080/"
        },
        "id": "gGiaLe-nw4MN",
        "outputId": "bd6b51c3-0cce-4be8-a7fa-abb1b5c3802d"
      },
      "execution_count": null,
      "outputs": [
        {
          "output_type": "stream",
          "name": "stdout",
          "text": [
            "The most frequent value is 1\n",
            "Indices of the most frequent value: [0 5 7 8 9]\n"
          ]
        }
      ]
    },
    {
      "cell_type": "code",
      "source": [
        "import numpy as np\n",
        "\n",
        "y=np.array([1,1,1,2,3,4,2,4,3,3])\n",
        "\n",
        "counts=np.bincount(y)\n",
        "print(counts)\n",
        "\n",
        "most_frequent_value=np.argmax(counts)\n",
        "\n",
        "indices= np.where(y==most_frequent_value)[0]\n",
        "\n",
        "print(f\"The most frequent value is {most_frequent_value}\")\n",
        "print(f\"Indices of the most frequent value: {indices}\")\n",
        "\n"
      ],
      "metadata": {
        "colab": {
          "base_uri": "https://localhost:8080/"
        },
        "id": "8TdVyC0Ox5Kz",
        "outputId": "25bc78af-03d0-4f02-dc56-1d483c701f9f"
      },
      "execution_count": null,
      "outputs": [
        {
          "output_type": "stream",
          "name": "stdout",
          "text": [
            "[0 3 2 3 2]\n",
            "The most frequent value is 1\n",
            "Indices of the most frequent value: [0 1 2]\n"
          ]
        }
      ]
    },
    {
      "cell_type": "code",
      "source": [
        "import numpy as np\n",
        "\n",
        "gfg=np.matrix('[4, 1, 9; 12, 3, 1; 4, 5, 6]')\n",
        "\n",
        "total_sum=np.sum(gfg)\n",
        "\n",
        "print(total_sum)\n",
        "\n",
        "row_sum=np.sum(gfg,axis=1)\n",
        "\n",
        "print(row_sum)\n",
        "\n",
        "col_sum=np.sum(gfg,axis=0)\n",
        "\n",
        "print(col_sum)\n"
      ],
      "metadata": {
        "colab": {
          "base_uri": "https://localhost:8080/"
        },
        "id": "V_a0iZ5czDfB",
        "outputId": "49b639c7-fdc9-4014-d67b-f7bdb86e7995"
      },
      "execution_count": null,
      "outputs": [
        {
          "output_type": "stream",
          "name": "stdout",
          "text": [
            "45\n",
            "[[14]\n",
            " [16]\n",
            " [15]]\n",
            "[[20  9 16]]\n"
          ]
        }
      ]
    },
    {
      "cell_type": "code",
      "source": [
        "import numpy as py\n",
        "\n",
        "n_array = np.array([[55, 25, 15],[30, 44, 2],[11, 45, 77]])\n",
        "\n",
        "# Sum of diagonal elements\n",
        "sum_diagonal = np.trace(n_array)                    #computes the sum of the elements on the main diagonal of a 2D array (or matrix).\n",
        "print(f\"Sum of diagonal elements: {sum_diagonal}\")\n",
        "\n",
        "# Eigenvalues of the matrix\n",
        "eigenvalues = np.linalg.eigvals(n_array)\n",
        "print(f\"Eigenvalues of the matrix: {eigenvalues}\")\n",
        "\n",
        "# Eigenvectors of the matrix\n",
        "eigenvalues, eigenvectors = np.linalg.eig(n_array)\n",
        "print(f\"Eigenvectors of the matrix: \\n{eigenvectors}\")\n",
        "\n",
        "# Inverse of the matrix\n",
        "inverse_matrix = np.linalg.inv(n_array)\n",
        "print(f\"Inverse of the matrix: \\n{inverse_matrix}\")\n",
        "\n",
        "# Determinant of the matrix\n",
        "determinant = np.linalg.det(n_array)\n",
        "print(f\"Determinant of the matrix: {determinant}\")\n",
        "\n",
        "\n",
        "\n"
      ],
      "metadata": {
        "id": "yWLlQGsRz-Uq"
      },
      "execution_count": null,
      "outputs": []
    },
    {
      "cell_type": "code",
      "source": [
        "import numpy as np\n",
        "\n",
        "# Define matrices\n",
        "p = np.array([[1, 2], [2, 3]])\n",
        "q = np.array([[4, 5], [6, 7]])\n",
        "\n",
        "# Matrix multiplication\n",
        "product = np.dot(p, q)\n",
        "print(\"Matrix Product:\")\n",
        "print(product)\n",
        "\n",
        "# Flatten the matrices into vectors\n",
        "p_flat = p.flatten()\n",
        "q_flat = q.flatten()\n",
        "\n",
        "# Stack the flattened matrices into a 2D array\n",
        "stacked_matrices = np.vstack([p_flat, q_flat])\n",
        "\n",
        "# Compute the covariance matrix\n",
        "covariance_matrix = np.cov(stacked_matrices, bias=False)\n",
        "print(\"Covariance Matrix:\")\n",
        "print(covariance_matrix)\n"
      ],
      "metadata": {
        "colab": {
          "base_uri": "https://localhost:8080/"
        },
        "id": "qZVHjxSe19Eg",
        "outputId": "70e43258-d2d2-41cb-cd64-047d7ad89a47"
      },
      "execution_count": null,
      "outputs": [
        {
          "output_type": "stream",
          "name": "stdout",
          "text": [
            "Matrix Product:\n",
            "[[16 19]\n",
            " [26 31]]\n",
            "Covariance Matrix:\n",
            "[[0.66666667 1.        ]\n",
            " [1.         1.66666667]]\n"
          ]
        }
      ]
    },
    {
      "cell_type": "code",
      "source": [
        "import numpy as np\n",
        "\n",
        "x = np.array([[2, 3, 4], [3, 2, 9]])\n",
        "y = np.array([[1, 5, 0], [5, 10, 3]])\n",
        "\n",
        "# inner product\n",
        "inner_product = np.dot(x, y.T)        #  y.T denotes the transpose of y so that the dot product is correctly computed between corresponding dimensions.\n",
        "print(\"Inner Product (Matrix Multiplication):\")\n",
        "print(inner_product)\n",
        "\n",
        "#outer product\n",
        "outer_product = np.outer(x.flatten(), y.flatten())\n",
        "print(\"Outer Product:\")\n",
        "print(outer_product)\n",
        "\n",
        "\n",
        "\n"
      ],
      "metadata": {
        "colab": {
          "base_uri": "https://localhost:8080/"
        },
        "id": "atTktl_U5Mjs",
        "outputId": "106ed9ed-af23-4779-ab7c-90ca0d861c03"
      },
      "execution_count": null,
      "outputs": [
        {
          "output_type": "stream",
          "name": "stdout",
          "text": [
            "Inner Product (Matrix Multiplication):\n",
            "[[17 52]\n",
            " [13 62]]\n",
            "Outer Product:\n",
            "[[ 2 10  0 10 20  6]\n",
            " [ 3 15  0 15 30  9]\n",
            " [ 4 20  0 20 40 12]\n",
            " [ 3 15  0 15 30  9]\n",
            " [ 2 10  0 10 20  6]\n",
            " [ 9 45  0 45 90 27]]\n"
          ]
        }
      ]
    },
    {
      "cell_type": "code",
      "source": [
        "import numpy as np\n",
        "\n",
        "array = np.array([[1, -2, 3], [-4, 5, -6]])\n",
        "abs_array = np.abs(array)\n",
        "\n",
        "print(abs_array)\n"
      ],
      "metadata": {
        "colab": {
          "base_uri": "https://localhost:8080/"
        },
        "id": "IN2QCPTtIeFu",
        "outputId": "dd10b687-916a-427c-ce1d-64588990fd1f"
      },
      "execution_count": null,
      "outputs": [
        {
          "output_type": "stream",
          "name": "stdout",
          "text": [
            "[[1 2 3]\n",
            " [4 5 6]]\n"
          ]
        }
      ]
    },
    {
      "cell_type": "code",
      "source": [
        "import numpy as np\n",
        "\n",
        "array = np.array([[1, -2, 3], [-4, 5, -6]])\n",
        "\n",
        "# Flattened array\n",
        "flattened_percentiles = np.percentile(array, [25, 50, 75])\n",
        "\n",
        "column_percentiles = np.percentile(array, [25, 50, 75], axis=0)\n",
        "\n",
        "row_percentiles = np.percentile(array, [25, 50, 75], axis=1)\n",
        "\n",
        "print(\"Percentiles of flattened array (25th, 50th, 75th):\")\n",
        "print(flattened_percentiles)\n",
        "\n",
        "print(\"\\nPercentiles for each column (25th, 50th, 75th):\")\n",
        "print(column_percentiles)\n",
        "\n",
        "print(\"\\nPercentiles for each row (25th, 50th, 75th):\")\n",
        "print(row_percentiles)\n"
      ],
      "metadata": {
        "colab": {
          "base_uri": "https://localhost:8080/"
        },
        "id": "7fQ3ml81RChh",
        "outputId": "8278200c-5d94-4df5-859f-c3b1fd4c2ab3"
      },
      "execution_count": null,
      "outputs": [
        {
          "output_type": "stream",
          "name": "stdout",
          "text": [
            "Percentiles of flattened array (25th, 50th, 75th):\n",
            "[-3.5 -0.5  2.5]\n",
            "\n",
            "Percentiles for each column (25th, 50th, 75th):\n",
            "[[-2.75 -0.25 -3.75]\n",
            " [-1.5   1.5  -1.5 ]\n",
            " [-0.25  3.25  0.75]]\n",
            "\n",
            "Percentiles for each row (25th, 50th, 75th):\n",
            "[[-0.5 -5. ]\n",
            " [ 1.  -4. ]\n",
            " [ 2.   0.5]]\n"
          ]
        }
      ]
    },
    {
      "cell_type": "code",
      "source": [
        "import numpy as np\n",
        "\n",
        "array = np.array([[1, -2, 3], [-4, 5, -6]])\n",
        "\n",
        "# Flattened array\n",
        "mean_flattened = np.mean(array)\n",
        "median_flattened = np.median(array)\n",
        "std_flattened = np.std(array)\n",
        "\n",
        "# For each column\n",
        "mean_columns = np.mean(array, axis=0)\n",
        "median_columns = np.median(array, axis=0)\n",
        "std_columns = np.std(array, axis=0)\n",
        "\n",
        "# For each row\n",
        "mean_rows = np.mean(array, axis=1)\n",
        "median_rows = np.median(array, axis=1)\n",
        "std_rows = np.std(array, axis=1)\n",
        "\n",
        "print(\"Mean, Median, and Standard Deviation of flattened array:\")\n",
        "print(f\"Mean: {mean_flattened}, Median: {median_flattened}, Std: {std_flattened}\")\n",
        "\n",
        "print(\"\\nMean, Median, and Standard Deviation for each column:\")\n",
        "print(f\"Mean: {mean_columns}\")\n",
        "print(f\"Median: {median_columns}\")\n",
        "print(f\"Std: {std_columns}\")\n",
        "\n",
        "print(\"\\nMean, Median, and Standard Deviation for each row:\")\n",
        "print(f\"Mean: {mean_rows}\")\n",
        "print(f\"Median: {median_rows}\")\n",
        "print(f\"Std: {std_rows}\")\n"
      ],
      "metadata": {
        "colab": {
          "base_uri": "https://localhost:8080/"
        },
        "id": "Bh0su4w0RiPM",
        "outputId": "f586ac3e-2543-418f-9249-a5a96f73b0dd"
      },
      "execution_count": null,
      "outputs": [
        {
          "output_type": "stream",
          "name": "stdout",
          "text": [
            "Mean, Median, and Standard Deviation of flattened array:\n",
            "Mean: -0.5, Median: -0.5, Std: 3.8622100754188224\n",
            "\n",
            "Mean, Median, and Standard Deviation for each column:\n",
            "Mean: [-1.5  1.5 -1.5]\n",
            "Median: [-1.5  1.5 -1.5]\n",
            "Std: [2.5 3.5 4.5]\n",
            "\n",
            "Mean, Median, and Standard Deviation for each row:\n",
            "Mean: [ 0.66666667 -1.66666667]\n",
            "Median: [ 1. -4.]\n",
            "Std: [2.05480467 4.78423336]\n"
          ]
        }
      ]
    },
    {
      "cell_type": "code",
      "source": [
        "import numpy as np\n",
        "\n",
        "array = np.array([10, 52, 62, 16, 16, 54, 453])\n",
        "\n",
        "#  Sorted array\n",
        "sorted_array = np.sort(array)\n",
        "\n",
        "#  Indices of sorted array\n",
        "indices_sorted_array = np.argsort(array)\n",
        "\n",
        "#  4 smallest elements\n",
        "four_smallest_elements = np.sort(array)[:4]\n",
        "\n",
        "#  5 largest elements\n",
        "five_largest_elements = np.sort(array)[-5:]\n",
        "\n",
        "print(\"Original array:\")\n",
        "print(array)\n",
        "\n",
        "print(\"\\nSorted array:\")\n",
        "print(sorted_array)\n",
        "\n",
        "print(\"\\nIndices of sorted array:\")\n",
        "print(indices_sorted_array)\n",
        "\n",
        "print(\"\\n4 smallest elements:\")\n",
        "print(four_smallest_elements)\n",
        "\n",
        "print(\"\\n5 largest elements:\")\n",
        "print(five_largest_elements)\n"
      ],
      "metadata": {
        "colab": {
          "base_uri": "https://localhost:8080/"
        },
        "id": "88klqoV-TBsr",
        "outputId": "60a5869f-c894-4686-b1b9-6f16071ed846"
      },
      "execution_count": null,
      "outputs": [
        {
          "output_type": "stream",
          "name": "stdout",
          "text": [
            "Original array:\n",
            "[ 10  52  62  16  16  54 453]\n",
            "\n",
            "Sorted array:\n",
            "[ 10  16  16  52  54  62 453]\n",
            "\n",
            "Indices of sorted array:\n",
            "[0 3 4 1 5 2 6]\n",
            "\n",
            "4 smallest elements:\n",
            "[10 16 16 52]\n",
            "\n",
            "5 largest elements:\n",
            "[ 16  52  54  62 453]\n"
          ]
        }
      ]
    },
    {
      "cell_type": "code",
      "source": [
        "import numpy as np\n",
        "\n",
        "array = np.array([1.0, 1.2, 2.2, 2.0, 3.0, 2.0])\n",
        "\n",
        "# i. Integer elements only\n",
        "integer_elements = array[array == np.floor(array)]\n",
        "\n",
        "# ii. Float elements only (including fractional part)\n",
        "float_elements = array[array != np.floor(array)]\n",
        "\n",
        "print(\"Original array:\")\n",
        "print(array)\n",
        "\n",
        "print(\"\\nInteger elements only:\")\n",
        "print(integer_elements)\n",
        "\n",
        "print(\"\\nFloat elements only:\")\n",
        "print(float_elements)\n"
      ],
      "metadata": {
        "colab": {
          "base_uri": "https://localhost:8080/"
        },
        "id": "Ir7AEF5Ax7iC",
        "outputId": "805ce277-dea6-4b9c-a632-6e0c8b967cf0"
      },
      "execution_count": null,
      "outputs": [
        {
          "output_type": "stream",
          "name": "stdout",
          "text": [
            "Original array:\n",
            "[1.  1.2 2.2 2.  3.  2. ]\n",
            "\n",
            "Integer elements only:\n",
            "[1. 2. 3. 2.]\n",
            "\n",
            "Float elements only:\n",
            "[1.2 2.2]\n"
          ]
        }
      ]
    }
  ]
}